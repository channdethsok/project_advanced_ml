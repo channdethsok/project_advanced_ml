{
 "cells": [
  {
   "cell_type": "code",
   "execution_count": 1,
   "id": "b6291099-900d-4f79-a9ba-6210c9f5310c",
   "metadata": {},
   "outputs": [
    {
     "name": "stderr",
     "output_type": "stream",
     "text": [
      "/opt/conda/lib/python3.12/site-packages/tqdm/auto.py:21: TqdmWarning: IProgress not found. Please update jupyter and ipywidgets. See https://ipywidgets.readthedocs.io/en/stable/user_install.html\n",
      "  from .autonotebook import tqdm as notebook_tqdm\n"
     ]
    }
   ],
   "source": [
    "import torch\n",
    "from torch.utils.data import DataLoader\n",
    "from torch.optim import AdamW\n",
    "from transformers import GPT2Tokenizer, get_linear_schedule_with_warmup\n",
    "import random\n",
    "import numpy as np\n",
    "# For reproducibility\n",
    "seed = 42\n",
    "random.seed(seed)\n",
    "np.random.seed(seed)\n",
    "torch.manual_seed(seed)\n",
    "torch.cuda.manual_seed_all(seed)\n",
    "\n",
    "# Device configuration\n",
    "device = torch.device(\"cuda\" if torch.cuda.is_available() else \"cpu\")"
   ]
  },
  {
   "cell_type": "code",
   "execution_count": 2,
   "id": "8ebce7f8-6cdc-4b53-a905-d6713df6f680",
   "metadata": {},
   "outputs": [
    {
     "data": {
      "text/html": [
       "<div>\n",
       "<style scoped>\n",
       "    .dataframe tbody tr th:only-of-type {\n",
       "        vertical-align: middle;\n",
       "    }\n",
       "\n",
       "    .dataframe tbody tr th {\n",
       "        vertical-align: top;\n",
       "    }\n",
       "\n",
       "    .dataframe thead th {\n",
       "        text-align: right;\n",
       "    }\n",
       "</style>\n",
       "<table border=\"1\" class=\"dataframe\">\n",
       "  <thead>\n",
       "    <tr style=\"text-align: right;\">\n",
       "      <th></th>\n",
       "      <th>lyrics</th>\n",
       "      <th>midi_path</th>\n",
       "    </tr>\n",
       "  </thead>\n",
       "  <tbody>\n",
       "    <tr>\n",
       "      <th>0</th>\n",
       "      <td>In sleep he sang to me\\nin dreams he came\\ntha...</td>\n",
       "      <td>lmd-full_and_reddit_MIDI_dataset/sentenceWord_...</td>\n",
       "    </tr>\n",
       "    <tr>\n",
       "      <th>1</th>\n",
       "      <td>I have plans and schemes\\nAnd I have hopes and...</td>\n",
       "      <td>lmd-full_and_reddit_MIDI_dataset/sentenceWord_...</td>\n",
       "    </tr>\n",
       "    <tr>\n",
       "      <th>2</th>\n",
       "      <td>I get up and nothing gets me You got\\nit tough...</td>\n",
       "      <td>lmd-full_and_reddit_MIDI_dataset/sentenceWord_...</td>\n",
       "    </tr>\n",
       "    <tr>\n",
       "      <th>3</th>\n",
       "      <td>Man a hot like seven inches\\nfrom the midday I...</td>\n",
       "      <td>lmd-full_and_reddit_MIDI_dataset/sentenceWord_...</td>\n",
       "    </tr>\n",
       "    <tr>\n",
       "      <th>4</th>\n",
       "      <td>We come from the land of the ice and snow\\nfro...</td>\n",
       "      <td>lmd-full_and_reddit_MIDI_dataset/sentenceWord_...</td>\n",
       "    </tr>\n",
       "  </tbody>\n",
       "</table>\n",
       "</div>"
      ],
      "text/plain": [
       "                                              lyrics  \\\n",
       "0  In sleep he sang to me\\nin dreams he came\\ntha...   \n",
       "1  I have plans and schemes\\nAnd I have hopes and...   \n",
       "2  I get up and nothing gets me You got\\nit tough...   \n",
       "3  Man a hot like seven inches\\nfrom the midday I...   \n",
       "4  We come from the land of the ice and snow\\nfro...   \n",
       "\n",
       "                                           midi_path  \n",
       "0  lmd-full_and_reddit_MIDI_dataset/sentenceWord_...  \n",
       "1  lmd-full_and_reddit_MIDI_dataset/sentenceWord_...  \n",
       "2  lmd-full_and_reddit_MIDI_dataset/sentenceWord_...  \n",
       "3  lmd-full_and_reddit_MIDI_dataset/sentenceWord_...  \n",
       "4  lmd-full_and_reddit_MIDI_dataset/sentenceWord_...  "
      ]
     },
     "execution_count": 2,
     "metadata": {},
     "output_type": "execute_result"
    }
   ],
   "source": [
    "import pandas as pd\n",
    "\n",
    "df = pd.read_csv(\"data/lyrics_midi_data.csv\")\n",
    "df.head()"
   ]
  },
  {
   "cell_type": "code",
   "execution_count": 3,
   "id": "2e47ec91-589a-4245-816c-30a15b34ad12",
   "metadata": {},
   "outputs": [],
   "source": [
    "from torch.utils.data import random_split\n",
    "from pathlib import Path\n",
    "from miditok import TSD, TokenizerConfig\n",
    "\n",
    "# Load MIDI Tokenizer\n",
    "config = TokenizerConfig(\n",
    "    use_velocities=False,\n",
    "    use_chords=False,\n",
    "    use_rests=False,\n",
    "    use_tempos=False,\n",
    "    use_time_signatures=False,\n",
    ")\n",
    "\n",
    "midi_tokenizer = TSD(config)\n",
    "midi_tokenizer\n",
    "\n",
    "# Load GPT-2 tokenizer\n",
    "lyrics_tokenizer = GPT2Tokenizer.from_pretrained('gpt2')\n",
    "lyrics_tokenizer.add_special_tokens({'pad_token': '<|pad|>'})\n",
    "lyrics_vocab_size = len(lyrics_tokenizer)"
   ]
  },
  {
   "cell_type": "code",
   "execution_count": 4,
   "id": "6c9575b6-f41a-43de-a624-909165c8e656",
   "metadata": {},
   "outputs": [],
   "source": [
    "from data import randomize_midi_pitch, LyricsMidiDataset\n",
    "from torch.utils.data import random_split\n",
    "\n",
    "batch_size = 4\n",
    "\n",
    "# Create dataset and dataloader\n",
    "dataset = LyricsMidiDataset(df, lyrics_tokenizer, midi_tokenizer, max_length=512, root_dir='data', augment=True)\n",
    "train_size = int(0.8 * len(dataset))\n",
    "train_dataset, val_dataset = random_split(dataset, [train_size, len(dataset) - train_size])\n",
    "\n",
    "train_dataloader = DataLoader(train_dataset, batch_size=batch_size, shuffle=True)\n",
    "val_dataloader = DataLoader(val_dataset, batch_size=batch_size)"
   ]
  },
  {
   "cell_type": "code",
   "execution_count": 5,
   "id": "a741d0ca-d556-44f1-b000-94df5218337b",
   "metadata": {},
   "outputs": [
    {
     "name": "stderr",
     "output_type": "stream",
     "text": [
      "The new embeddings will be initialized from a multivariate normal distribution that has old embeddings' mean and covariance. As described in this article: https://nlp.stanford.edu/~johnhew/vocab-expansion.html. To disable this, use `mean_resizing=False`\n"
     ]
    },
    {
     "name": "stdout",
     "output_type": "stream",
     "text": [
      "\n"
     ]
    }
   ],
   "source": [
    "from model import LyricsGenerator, generate_lyrics\n",
    "from train import train, validate, save_checkpoint, load_checkpoint\n",
    "\n",
    "# Instantiate model\n",
    "model = LyricsGenerator(lyrics_vocab_size=len(lyrics_tokenizer), d_model=768, max_lyrics_length=512, max_midi_length=512)\n",
    "model.to(device)\n",
    "print(\"\")"
   ]
  },
  {
   "cell_type": "code",
   "execution_count": null,
   "id": "911d6dc8-af93-478c-b5bd-95f36b34c355",
   "metadata": {},
   "outputs": [],
   "source": [
    "# Train the model\n",
    "epochs = 6\n",
    "optimizer = AdamW(model.parameters(), lr=5e-5)\n",
    "total_steps = len(train_dataloader) * epochs\n",
    "scheduler = get_linear_schedule_with_warmup(optimizer, num_warmup_steps=0, num_training_steps=total_steps)\n",
    "\n",
    "train(model, train_dataloader, val_dataloader, optimizer, scheduler, epochs, device=device, lyrics_tokenizer=lyrics_tokenizer, save_every=3)"
   ]
  },
  {
   "cell_type": "code",
   "execution_count": 7,
   "id": "46f6daa1-f6b5-4df2-a1f0-0f3c75b49f4f",
   "metadata": {},
   "outputs": [
    {
     "name": "stdout",
     "output_type": "stream",
     "text": [
      "Generated Lyrics:\n",
      "I can't believe I'm reading this.\n",
      "\n",
      "I can't believe I'm reading this.\n",
      "\n",
      "I can't believe I'm reading this.\n",
      "\n",
      "I can't believe I'm reading this.\n",
      "\n",
      "I can't believe I'm reading this.\n",
      "\n",
      "I can't believe I'm reading this.\n"
     ]
    }
   ],
   "source": [
    "import os\n",
    "\n",
    "base_dir = 'data/'\n",
    "midi_path = os.path.join(base_dir, df[\"midi_path\"][9001])\n",
    "input_text = None\n",
    "generated_lyrics = generate_lyrics(\n",
    "    model=model,\n",
    "    midi_path=midi_path,\n",
    "    lyrics_tokenizer=lyrics_tokenizer,\n",
    "    midi_tokenizer=midi_tokenizer,\n",
    "    max_midi_length=256,\n",
    "    max_lyrics_length=512,\n",
    "    num_beams=5,\n",
    "    input_text=input_text\n",
    ")\n",
    "print(\"Generated Lyrics:\")\n",
    "print(generated_lyrics)"
   ]
  },
  {
   "cell_type": "code",
   "execution_count": null,
   "id": "b36e5f72-63d7-47f0-8c69-4ec6366ffe9d",
   "metadata": {},
   "outputs": [],
   "source": []
  }
 ],
 "metadata": {
  "kernelspec": {
   "display_name": "Python 3 (ipykernel)",
   "language": "python",
   "name": "python3"
  },
  "language_info": {
   "codemirror_mode": {
    "name": "ipython",
    "version": 3
   },
   "file_extension": ".py",
   "mimetype": "text/x-python",
   "name": "python",
   "nbconvert_exporter": "python",
   "pygments_lexer": "ipython3",
   "version": "3.12.7"
  }
 },
 "nbformat": 4,
 "nbformat_minor": 5
}
