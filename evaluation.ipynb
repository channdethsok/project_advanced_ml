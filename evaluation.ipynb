{
 "cells": [
  {
   "cell_type": "code",
   "execution_count": 11,
   "metadata": {},
   "outputs": [],
   "source": [
    "import pandas as pd\n",
    "import torch\n",
    "from torch import nn\n",
    "from src.utils import initialize_lyrics_tokenizer, initialize_midi_tokenizer, load_checkpoint\n",
    "from src.model import LyricsGenerator\n",
    "from src.data import prepare_dataloaders\n",
    "\n",
    "def calculate_perplexity(model, dataloader, loss_fct, device):\n",
    "    model.eval()\n",
    "    total_loss = 0\n",
    "    with torch.no_grad():\n",
    "        for batch in dataloader:\n",
    "            # Move data to the correct device\n",
    "            lyrics_ids = batch['lyrics_ids'].to(device)\n",
    "            lyrics_attention_mask = batch['lyrics_attention_mask'].to(device)\n",
    "            midi_tokens = batch['midi_tokens'].to(device)\n",
    "\n",
    "            with torch.autocast(device_type=device.type):\n",
    "                logits = model(lyrics_ids, lyrics_attention_mask, midi_tokens)\n",
    "                loss = loss_fct(logits.transpose(1, 2), lyrics_ids)\n",
    "                total_loss += loss.item()\n",
    "    \n",
    "    avg_loss = total_loss / len(dataloader)\n",
    "    perplexity = torch.exp(torch.tensor(avg_loss))\n",
    "    return perplexity.item()\n"
   ]
  },
  {
   "cell_type": "code",
   "execution_count": 14,
   "metadata": {},
   "outputs": [
    {
     "name": "stdout",
     "output_type": "stream",
     "text": [
      "Checkpoint loaded for inference.\n",
      "Validation Perplexity: 1615.6462\n"
     ]
    }
   ],
   "source": [
    "# Initialize model and tokenizer\n",
    "lyrics_tokenizer = initialize_lyrics_tokenizer()\n",
    "midi_tokenizer = initialize_midi_tokenizer()\n",
    "model = LyricsGenerator(lyrics_tokenizer, d_model=768, max_lyrics_length=512, max_midi_length=512)\n",
    "device = torch.device(\"cuda\" if torch.cuda.is_available() else \"cpu\")\n",
    "model.to(device)\n",
    "# Load model from checkpoint\n",
    "model = load_checkpoint(model=model, path='model_checkpoint/final_checkpoint.pth', inference=True, device=device)\n",
    "# Data\n",
    "df = pd.read_csv('data/lyrics_midi_data.csv')\n",
    "train_dataloader, val_dataloader = prepare_dataloaders(\n",
    "            df=df,\n",
    "            lyrics_tokenizer=lyrics_tokenizer,\n",
    "            midi_tokenizer=midi_tokenizer,\n",
    "            max_length=512,\n",
    "            root_dir='data/',\n",
    "            batch_size=4,\n",
    "        )\n",
    "\n",
    "# Loss function\n",
    "loss_fct = nn.CrossEntropyLoss(ignore_index=lyrics_tokenizer.pad_token_id)\n",
    "\n",
    "# Calculate perplexity\n",
    "val_perplexity = calculate_perplexity(model, val_dataloader, loss_fct, device)\n",
    "print(f\"Validation Perplexity: {val_perplexity:.4f}\")"
   ]
  }
 ],
 "metadata": {
  "kernelspec": {
   "display_name": ".venv",
   "language": "python",
   "name": "python3"
  },
  "language_info": {
   "codemirror_mode": {
    "name": "ipython",
    "version": 3
   },
   "file_extension": ".py",
   "mimetype": "text/x-python",
   "name": "python",
   "nbconvert_exporter": "python",
   "pygments_lexer": "ipython3",
   "version": "3.10.12"
  }
 },
 "nbformat": 4,
 "nbformat_minor": 2
}
